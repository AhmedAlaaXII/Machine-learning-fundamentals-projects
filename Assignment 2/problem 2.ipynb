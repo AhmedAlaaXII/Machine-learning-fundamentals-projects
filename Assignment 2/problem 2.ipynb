{
 "cells": [
  {
   "cell_type": "code",
   "execution_count": 13,
   "id": "a2c079a8-e141-4d84-98ef-e933c67f714d",
   "metadata": {},
   "outputs": [],
   "source": [
    "import pandas as pd\n",
    "import numpy as np\n",
    "import math\n"
   ]
  },
  {
   "cell_type": "code",
   "execution_count": 14,
   "id": "2a9b9a89-b1dd-4958-b716-a4aa52a9eab4",
   "metadata": {},
   "outputs": [
    {
     "name": "stdout",
     "output_type": "stream",
     "text": [
      "(336, 9)\n"
     ]
    }
   ],
   "source": [
    "data = pd.read_csv(\"diabetes.csv\")\n",
    "features = data[['Pregnancies', 'Glucose', 'BloodPressure', 'SkinThickness', 'Insulin','BMI','DiabetesPedigreeFunction','Age']]\n",
    "target = data['Outcome']\n",
    "condition = (data.iloc[:, :-1] == 0).any(axis=1)\n",
    "# Keep rows where the condition is False\n",
    "data = data[~condition]\n",
    "data=np.array(data)\n",
    "print(data.shape)\n",
    "np.random.shuffle(data)\n",
    "data = data.T"
   ]
  },
  {
   "cell_type": "code",
   "execution_count": 15,
   "id": "359dba32-ce1f-4c4f-90cf-10daf8e7ce81",
   "metadata": {},
   "outputs": [],
   "source": [
    "newdata = []\n",
    "for column in data:\n",
    "    min_val = column.min()\n",
    "    max_val = column.max()\n",
    "    column = (column - min_val) / (max_val - min_val)\n",
    "    newdata.append(column)\n",
    "data = np.array(newdata).T"
   ]
  },
  {
   "cell_type": "code",
   "execution_count": 16,
   "id": "8c0b64fb-b0e6-46dc-91d7-02c45913d4b3",
   "metadata": {},
   "outputs": [],
   "source": [
    "test_data, train_data = np.split(data, [int(0.3 * len(data))])\n",
    "x_train = np.array(train_data.T[:-1].T)\n",
    "y_train = np.array(train_data.T[-1].T)\n",
    "x_test = np.array(test_data.T[:-1].T)\n",
    "y_test = np.array(test_data.T[-1].T)"
   ]
  },
  {
   "cell_type": "code",
   "execution_count": 17,
   "id": "0d232f3a-dd75-45ae-90f6-9559f7d2916e",
   "metadata": {},
   "outputs": [],
   "source": [
    "def KNN (x_test,x_train,y_train,K):\n",
    "    m = y_train.shape[0]\n",
    "    n = x_train.shape[1]\n",
    "    distance = 0\n",
    "    distances = np.zeros(m)\n",
    "    result= np.zeros(K)\n",
    "    for item in range(m):\n",
    "        for i in range(n) :\n",
    "            distance = distance + pow(x_test[i] - x_train[item][i],2)\n",
    "        distance =math.sqrt(distance)\n",
    "        distances[item] = distance\n",
    "        distance = 0\n",
    "    sorted_indices = np.argsort(distances)\n",
    "    distances = distances[sorted_indices]\n",
    "    y_train = y_train[sorted_indices]\n",
    "    for j in range(K) :\n",
    "        result[j] = y_train[j]\n",
    "    result = result.astype(int)\n",
    "    most_frequent_result = np.where(np.bincount(result) == np.max(np.bincount(result)))[0].tolist()\n",
    "    if(np.size(most_frequent_result) == 1):\n",
    "        return most_frequent_result[0]\n",
    "    else:\n",
    "        zero_distance = 0\n",
    "        one_distance = 0\n",
    "        for i in range(K):\n",
    "            if(y_train[i] == 0):\n",
    "                zero_distance = zero_distance + distances[i]\n",
    "            else:\n",
    "                one_distance = one_distance + distances[i]\n",
    "        if(zero_distance > one_distance):\n",
    "            return 1\n",
    "        else:\n",
    "            return 0"
   ]
  },
  {
   "cell_type": "code",
   "execution_count": 18,
   "id": "5d2bcb54-ef31-4126-a177-43207981b221",
   "metadata": {},
   "outputs": [
    {
     "name": "stdout",
     "output_type": "stream",
     "text": [
      "K value: 2\n",
      "Number of correctly classified instances: 78\n",
      "Total number of instances: 100\n",
      "Accuracy: 78.0 %\n",
      "------------------------------------------\n",
      "K value: 3\n",
      "Number of correctly classified instances: 75\n",
      "Total number of instances: 100\n",
      "Accuracy: 75.0 %\n",
      "------------------------------------------\n",
      "K value: 4\n",
      "Number of correctly classified instances: 77\n",
      "Total number of instances: 100\n",
      "Accuracy: 77.0 %\n",
      "------------------------------------------\n",
      "K value: 5\n",
      "Number of correctly classified instances: 79\n",
      "Total number of instances: 100\n",
      "Accuracy: 79.0 %\n",
      "------------------------------------------\n",
      "K value: 6\n",
      "Number of correctly classified instances: 77\n",
      "Total number of instances: 100\n",
      "Accuracy: 77.0 %\n",
      "------------------------------------------\n",
      "77.2\n"
     ]
    }
   ],
   "source": [
    "K_values = np.arange(2,7)\n",
    "n = x_test.shape[0]\n",
    "avrage_Accuracy = 0\n",
    "for K in K_values:\n",
    "    number_correction = 0\n",
    "    for i in range(n):\n",
    "        if(KNN(x_test[i],x_train,y_train,K) == y_test[i]):\n",
    "            number_correction = number_correction + 1 \n",
    "    print(\"K value:\",K)\n",
    "    print(\"Number of correctly classified instances:\",number_correction)\n",
    "    print(\"Total number of instances:\",n)\n",
    "    Accuracy = (number_correction / n) *100\n",
    "    avrage_Accuracy = avrage_Accuracy + Accuracy\n",
    "    print(\"Accuracy:\",Accuracy,\"%\")\n",
    "    print(\"------------------------------------------\")\n",
    "avrage_Accuracy = avrage_Accuracy / K_values.shape[0]\n",
    "print(avrage_Accuracy)"
   ]
  },
  {
   "cell_type": "code",
   "execution_count": null,
   "id": "f4c16981-2249-46ac-9a3d-63aad27818a6",
   "metadata": {},
   "outputs": [],
   "source": []
  },
  {
   "cell_type": "code",
   "execution_count": null,
   "id": "adf0a85f-f866-4f8e-bac2-bce981459f9a",
   "metadata": {},
   "outputs": [],
   "source": []
  }
 ],
 "metadata": {
  "kernelspec": {
   "display_name": "Python 3 (ipykernel)",
   "language": "python",
   "name": "python3"
  },
  "language_info": {
   "codemirror_mode": {
    "name": "ipython",
    "version": 3
   },
   "file_extension": ".py",
   "mimetype": "text/x-python",
   "name": "python",
   "nbconvert_exporter": "python",
   "pygments_lexer": "ipython3",
   "version": "3.11.4"
  }
 },
 "nbformat": 4,
 "nbformat_minor": 5
}
