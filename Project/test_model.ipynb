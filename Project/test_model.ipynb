{
 "cells": [
  {
   "cell_type": "code",
   "execution_count": 1,
   "id": "eef39493-f912-4064-ae9a-444d67e336c4",
   "metadata": {},
   "outputs": [],
   "source": [
    "import numpy as np\n",
    "import pandas as pd\n",
    "from sklearn import datasets\n",
    "from sklearn.neighbors import KNeighborsClassifier\n",
    "from sklearn.metrics import accuracy_score\n",
    "import tensorflow as tf\n",
    "from tensorflow.keras.models import load_model\n",
    "from tensorflow import keras"
   ]
  },
  {
   "cell_type": "code",
   "execution_count": 2,
   "id": "d6b7e0a6-3913-41f1-9224-889ae35e4963",
   "metadata": {},
   "outputs": [],
   "source": [
    "data = pd.read_csv('mnist_test.csv')\n",
    "y = data[\"label\"].copy().to_numpy()\n",
    "X = data.drop(columns=[\"label\"]).to_numpy()\n",
    "X = X/255"
   ]
  },
  {
   "cell_type": "code",
   "execution_count": 3,
   "id": "fd695a97-2b6e-448c-8332-1af33934bc24",
   "metadata": {},
   "outputs": [
    {
     "name": "stdout",
     "output_type": "stream",
     "text": [
      "no KNN model file exist\n",
      "\u001b[1m313/313\u001b[0m \u001b[32m━━━━━━━━━━━━━━━━━━━━\u001b[0m\u001b[37m\u001b[0m \u001b[1m0s\u001b[0m 698us/step\n",
      "\u001b[1m313/313\u001b[0m \u001b[32m━━━━━━━━━━━━━━━━━━━━\u001b[0m\u001b[37m\u001b[0m \u001b[1m0s\u001b[0m 625us/step - accuracy: 0.9705 - loss: 0.1168\n",
      "Neural Network accuracy: 0.9750000238418579\n"
     ]
    }
   ],
   "source": [
    "try:\n",
    "    with open(\"best_model.joblib\", \"rb\") as f:\n",
    "        import joblib\n",
    "        knn_model = joblib.load(f)\n",
    "except:\n",
    "    print(\"no KNN model file exist\")\n",
    "    knn_model = None\n",
    "if knn_model:\n",
    "        knn_predictions = knn_model.predict(X)\n",
    "        print(\"KNN accuracy:\", accuracy_score(y, knn_predictions))\n",
    "try:\n",
    "    loaded_nn_model = load_model(\"best_model.keras\")\n",
    "except :\n",
    "    print(\"no NN model file exist\")\n",
    "    loaded_nn_model = None\n",
    "if loaded_nn_model:\n",
    "        nn_predictions = loaded_nn_model.predict(X)\n",
    "        loss, accuracy=loaded_nn_model.evaluate(X,y)\n",
    "        print(\"Neural Network accuracy:\", accuracy)"
   ]
  },
  {
   "cell_type": "code",
   "execution_count": null,
   "id": "b92da610-b9d0-4f3d-912b-923f30c6da00",
   "metadata": {},
   "outputs": [],
   "source": []
  }
 ],
 "metadata": {
  "kernelspec": {
   "display_name": "Python 3 (ipykernel)",
   "language": "python",
   "name": "python3"
  },
  "language_info": {
   "codemirror_mode": {
    "name": "ipython",
    "version": 3
   },
   "file_extension": ".py",
   "mimetype": "text/x-python",
   "name": "python",
   "nbconvert_exporter": "python",
   "pygments_lexer": "ipython3",
   "version": "3.11.4"
  }
 },
 "nbformat": 4,
 "nbformat_minor": 5
}
